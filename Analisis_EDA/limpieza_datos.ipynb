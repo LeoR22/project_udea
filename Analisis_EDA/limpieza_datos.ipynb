{
 "cells": [
  {
   "cell_type": "markdown",
   "id": "a130c4bb",
   "metadata": {},
   "source": [
    "## 1. Instalación librerias necesarias"
   ]
  },
  {
   "cell_type": "code",
   "execution_count": null,
   "id": "95d8c469",
   "metadata": {},
   "outputs": [
    {
     "name": "stdout",
     "output_type": "stream",
     "text": [
      "Looking in indexes: https://artifactory.apps.bancolombia.com/api/pypi/pypi-bancolombia/simple\n",
      "Requirement already satisfied: ydata-profiling in c:\\users\\lrivera\\appdata\\local\\programs\\python\\python311\\lib\\site-packages (4.16.1)\n",
      "Requirement already satisfied: scipy<1.16,>=1.4.1 in c:\\users\\lrivera\\appdata\\local\\programs\\python\\python311\\lib\\site-packages (from ydata-profiling) (1.15.2)\n",
      "Requirement already satisfied: pandas!=1.4.0,<3.0,>1.1 in c:\\users\\lrivera\\appdata\\local\\programs\\python\\python311\\lib\\site-packages (from ydata-profiling) (2.2.3)\n",
      "Requirement already satisfied: matplotlib<=3.10,>=3.5 in c:\\users\\lrivera\\appdata\\local\\programs\\python\\python311\\lib\\site-packages (from ydata-profiling) (3.10.0)\n",
      "Requirement already satisfied: pydantic>=2 in c:\\users\\lrivera\\appdata\\local\\programs\\python\\python311\\lib\\site-packages (from ydata-profiling) (2.10.6)\n",
      "Requirement already satisfied: PyYAML<6.1,>=5.0.0 in c:\\users\\lrivera\\appdata\\local\\programs\\python\\python311\\lib\\site-packages (from ydata-profiling) (6.0.2)\n",
      "Requirement already satisfied: jinja2<3.2,>=2.11.1 in c:\\users\\lrivera\\appdata\\local\\programs\\python\\python311\\lib\\site-packages (from ydata-profiling) (3.1.5)\n",
      "Requirement already satisfied: visions<0.8.2,>=0.7.5 in c:\\users\\lrivera\\appdata\\local\\programs\\python\\python311\\lib\\site-packages (from visions[type_image_path]<0.8.2,>=0.7.5->ydata-profiling) (0.8.1)\n",
      "Requirement already satisfied: numpy<2.2,>=1.16.0 in c:\\users\\lrivera\\appdata\\local\\programs\\python\\python311\\lib\\site-packages (from ydata-profiling) (1.26.4)\n",
      "Requirement already satisfied: htmlmin==0.1.12 in c:\\users\\lrivera\\appdata\\local\\programs\\python\\python311\\lib\\site-packages (from ydata-profiling) (0.1.12)\n",
      "Requirement already satisfied: phik<0.13,>=0.11.1 in c:\\users\\lrivera\\appdata\\local\\programs\\python\\python311\\lib\\site-packages (from ydata-profiling) (0.12.5)\n",
      "Requirement already satisfied: requests<3,>=2.24.0 in c:\\users\\lrivera\\appdata\\local\\programs\\python\\python311\\lib\\site-packages (from ydata-profiling) (2.32.3)\n",
      "Requirement already satisfied: tqdm<5,>=4.48.2 in c:\\users\\lrivera\\appdata\\local\\programs\\python\\python311\\lib\\site-packages (from ydata-profiling) (4.67.1)\n",
      "Requirement already satisfied: seaborn<0.14,>=0.10.1 in c:\\users\\lrivera\\appdata\\local\\programs\\python\\python311\\lib\\site-packages (from ydata-profiling) (0.13.2)\n",
      "Requirement already satisfied: multimethod<2,>=1.4 in c:\\users\\lrivera\\appdata\\local\\programs\\python\\python311\\lib\\site-packages (from ydata-profiling) (1.12)\n",
      "Requirement already satisfied: statsmodels<1,>=0.13.2 in c:\\users\\lrivera\\appdata\\local\\programs\\python\\python311\\lib\\site-packages (from ydata-profiling) (0.14.5)\n",
      "Requirement already satisfied: typeguard<5,>=3 in c:\\users\\lrivera\\appdata\\local\\programs\\python\\python311\\lib\\site-packages (from ydata-profiling) (4.4.4)\n",
      "Requirement already satisfied: imagehash==4.3.1 in c:\\users\\lrivera\\appdata\\local\\programs\\python\\python311\\lib\\site-packages (from ydata-profiling) (4.3.1)\n",
      "Requirement already satisfied: wordcloud>=1.9.3 in c:\\users\\lrivera\\appdata\\local\\programs\\python\\python311\\lib\\site-packages (from ydata-profiling) (1.9.4)\n",
      "Requirement already satisfied: dacite>=1.8 in c:\\users\\lrivera\\appdata\\local\\programs\\python\\python311\\lib\\site-packages (from ydata-profiling) (1.9.2)\n",
      "Requirement already satisfied: numba<=0.61,>=0.56.0 in c:\\users\\lrivera\\appdata\\local\\programs\\python\\python311\\lib\\site-packages (from ydata-profiling) (0.61.0)\n",
      "Requirement already satisfied: PyWavelets in c:\\users\\lrivera\\appdata\\local\\programs\\python\\python311\\lib\\site-packages (from imagehash==4.3.1->ydata-profiling) (1.8.0)\n",
      "Requirement already satisfied: pillow in c:\\users\\lrivera\\appdata\\local\\programs\\python\\python311\\lib\\site-packages (from imagehash==4.3.1->ydata-profiling) (11.1.0)\n",
      "Requirement already satisfied: MarkupSafe>=2.0 in c:\\users\\lrivera\\appdata\\local\\programs\\python\\python311\\lib\\site-packages (from jinja2<3.2,>=2.11.1->ydata-profiling) (3.0.2)\n",
      "Requirement already satisfied: contourpy>=1.0.1 in c:\\users\\lrivera\\appdata\\local\\programs\\python\\python311\\lib\\site-packages (from matplotlib<=3.10,>=3.5->ydata-profiling) (1.3.2)\n",
      "Requirement already satisfied: cycler>=0.10 in c:\\users\\lrivera\\appdata\\local\\programs\\python\\python311\\lib\\site-packages (from matplotlib<=3.10,>=3.5->ydata-profiling) (0.12.1)\n",
      "Requirement already satisfied: fonttools>=4.22.0 in c:\\users\\lrivera\\appdata\\local\\programs\\python\\python311\\lib\\site-packages (from matplotlib<=3.10,>=3.5->ydata-profiling) (4.59.0)\n",
      "Requirement already satisfied: kiwisolver>=1.3.1 in c:\\users\\lrivera\\appdata\\local\\programs\\python\\python311\\lib\\site-packages (from matplotlib<=3.10,>=3.5->ydata-profiling) (1.4.8)\n",
      "Requirement already satisfied: packaging>=20.0 in c:\\users\\lrivera\\appdata\\local\\programs\\python\\python311\\lib\\site-packages (from matplotlib<=3.10,>=3.5->ydata-profiling) (24.2)\n",
      "Requirement already satisfied: pyparsing>=2.3.1 in c:\\users\\lrivera\\appdata\\local\\programs\\python\\python311\\lib\\site-packages (from matplotlib<=3.10,>=3.5->ydata-profiling) (3.2.3)\n",
      "Requirement already satisfied: python-dateutil>=2.7 in c:\\users\\lrivera\\appdata\\local\\programs\\python\\python311\\lib\\site-packages (from matplotlib<=3.10,>=3.5->ydata-profiling) (2.9.0.post0)\n",
      "Requirement already satisfied: llvmlite<0.45,>=0.44.0dev0 in c:\\users\\lrivera\\appdata\\local\\programs\\python\\python311\\lib\\site-packages (from numba<=0.61,>=0.56.0->ydata-profiling) (0.44.0)\n",
      "Requirement already satisfied: pytz>=2020.1 in c:\\users\\lrivera\\appdata\\local\\programs\\python\\python311\\lib\\site-packages (from pandas!=1.4.0,<3.0,>1.1->ydata-profiling) (2025.1)\n",
      "Requirement already satisfied: tzdata>=2022.7 in c:\\users\\lrivera\\appdata\\local\\programs\\python\\python311\\lib\\site-packages (from pandas!=1.4.0,<3.0,>1.1->ydata-profiling) (2025.1)\n",
      "Requirement already satisfied: joblib>=0.14.1 in c:\\users\\lrivera\\appdata\\local\\programs\\python\\python311\\lib\\site-packages (from phik<0.13,>=0.11.1->ydata-profiling) (1.4.2)\n",
      "Requirement already satisfied: annotated-types>=0.6.0 in c:\\users\\lrivera\\appdata\\local\\programs\\python\\python311\\lib\\site-packages (from pydantic>=2->ydata-profiling) (0.7.0)\n",
      "Requirement already satisfied: pydantic-core==2.27.2 in c:\\users\\lrivera\\appdata\\local\\programs\\python\\python311\\lib\\site-packages (from pydantic>=2->ydata-profiling) (2.27.2)\n",
      "Requirement already satisfied: typing-extensions>=4.12.2 in c:\\users\\lrivera\\appdata\\local\\programs\\python\\python311\\lib\\site-packages (from pydantic>=2->ydata-profiling) (4.14.1)\n",
      "Requirement already satisfied: charset-normalizer<4,>=2 in c:\\users\\lrivera\\appdata\\local\\programs\\python\\python311\\lib\\site-packages (from requests<3,>=2.24.0->ydata-profiling) (3.4.1)\n",
      "Requirement already satisfied: idna<4,>=2.5 in c:\\users\\lrivera\\appdata\\local\\programs\\python\\python311\\lib\\site-packages (from requests<3,>=2.24.0->ydata-profiling) (3.10)\n",
      "Requirement already satisfied: urllib3<3,>=1.21.1 in c:\\users\\lrivera\\appdata\\local\\programs\\python\\python311\\lib\\site-packages (from requests<3,>=2.24.0->ydata-profiling) (2.3.0)\n",
      "Requirement already satisfied: certifi>=2017.4.17 in c:\\users\\lrivera\\appdata\\local\\programs\\python\\python311\\lib\\site-packages (from requests<3,>=2.24.0->ydata-profiling) (2025.1.31)\n",
      "Requirement already satisfied: patsy>=0.5.6 in c:\\users\\lrivera\\appdata\\local\\programs\\python\\python311\\lib\\site-packages (from statsmodels<1,>=0.13.2->ydata-profiling) (1.0.1)\n",
      "Requirement already satisfied: colorama in c:\\users\\lrivera\\appdata\\local\\programs\\python\\python311\\lib\\site-packages (from tqdm<5,>=4.48.2->ydata-profiling) (0.4.6)\n",
      "Requirement already satisfied: attrs>=19.3.0 in c:\\users\\lrivera\\appdata\\local\\programs\\python\\python311\\lib\\site-packages (from visions<0.8.2,>=0.7.5->visions[type_image_path]<0.8.2,>=0.7.5->ydata-profiling) (25.1.0)\n",
      "Requirement already satisfied: networkx>=2.4 in c:\\users\\lrivera\\appdata\\local\\programs\\python\\python311\\lib\\site-packages (from visions<0.8.2,>=0.7.5->visions[type_image_path]<0.8.2,>=0.7.5->ydata-profiling) (3.4.2)\n",
      "Requirement already satisfied: puremagic in c:\\users\\lrivera\\appdata\\local\\programs\\python\\python311\\lib\\site-packages (from visions<0.8.2,>=0.7.5->visions[type_image_path]<0.8.2,>=0.7.5->ydata-profiling) (1.30)\n",
      "Requirement already satisfied: six>=1.5 in c:\\users\\lrivera\\appdata\\local\\programs\\python\\python311\\lib\\site-packages (from python-dateutil>=2.7->matplotlib<=3.10,>=3.5->ydata-profiling) (1.17.0)\n"
     ]
    },
    {
     "name": "stderr",
     "output_type": "stream",
     "text": [
      "\n",
      "[notice] A new release of pip is available: 25.0.1 -> 25.1.1\n",
      "[notice] To update, run: python.exe -m pip install --upgrade pip\n"
     ]
    },
    {
     "name": "stdout",
     "output_type": "stream",
     "text": [
      "Looking in indexes: https://artifactory.apps.bancolombia.com/api/pypi/pypi-bancolombia/simple\n",
      "Requirement already satisfied: pandas in c:\\users\\lrivera\\appdata\\local\\programs\\python\\python311\\lib\\site-packages (2.2.3)\n",
      "Requirement already satisfied: numpy>=1.23.2 in c:\\users\\lrivera\\appdata\\local\\programs\\python\\python311\\lib\\site-packages (from pandas) (1.26.4)\n",
      "Requirement already satisfied: python-dateutil>=2.8.2 in c:\\users\\lrivera\\appdata\\local\\programs\\python\\python311\\lib\\site-packages (from pandas) (2.9.0.post0)\n",
      "Requirement already satisfied: pytz>=2020.1 in c:\\users\\lrivera\\appdata\\local\\programs\\python\\python311\\lib\\site-packages (from pandas) (2025.1)\n",
      "Requirement already satisfied: tzdata>=2022.7 in c:\\users\\lrivera\\appdata\\local\\programs\\python\\python311\\lib\\site-packages (from pandas) (2025.1)\n",
      "Requirement already satisfied: six>=1.5 in c:\\users\\lrivera\\appdata\\local\\programs\\python\\python311\\lib\\site-packages (from python-dateutil>=2.8.2->pandas) (1.17.0)\n"
     ]
    },
    {
     "name": "stderr",
     "output_type": "stream",
     "text": [
      "\n",
      "[notice] A new release of pip is available: 25.0.1 -> 25.1.1\n",
      "[notice] To update, run: python.exe -m pip install --upgrade pip\n"
     ]
    },
    {
     "name": "stdout",
     "output_type": "stream",
     "text": [
      "Looking in indexes: https://artifactory.apps.bancolombia.com/api/pypi/pypi-bancolombia/simple\n",
      "Collecting py4j\n",
      "  Downloading https://artifactory.apps.bancolombia.com/api/pypi/pypi-bancolombia/packages/packages/bd/db/ea0203e495be491c85af87b66e37acfd3bf756fd985f87e46fc5e3bf022c/py4j-0.10.9.9-py2.py3-none-any.whl (203 kB)\n",
      "Installing collected packages: py4j\n",
      "Successfully installed py4j-0.10.9.9\n"
     ]
    },
    {
     "name": "stderr",
     "output_type": "stream",
     "text": [
      "ERROR: pip's dependency resolver does not currently take into account all the packages that are installed. This behaviour is the source of the following dependency conflicts.\n",
      "pyspark 3.4.1 requires py4j==0.10.9.7, but you have py4j 0.10.9.9 which is incompatible.\n",
      "\n",
      "[notice] A new release of pip is available: 25.0.1 -> 25.1.1\n",
      "[notice] To update, run: python.exe -m pip install --upgrade pip\n"
     ]
    }
   ],
   "source": [
    "!pip install numpy\n",
    "!pip install pandas\n",
    "\n"
   ]
  },
  {
   "cell_type": "markdown",
   "id": "4b699346",
   "metadata": {},
   "source": [
    "## 2. Importar Librerias"
   ]
  },
  {
   "cell_type": "code",
   "execution_count": 37,
   "id": "32eb28c1",
   "metadata": {},
   "outputs": [],
   "source": [
    "import pandas as pd\n",
    "import numpy as np\n",
    "import warnings\n",
    "warnings.filterwarnings(\"ignore\")\n",
    "\n",
    "dfOpenSearch = pd.read_excel('Opensearch.xlsx')\n",
    "\n",
    "\n",
    "columnas_interes = [\n",
    "    'generaltimestamp', 'integrationplatform', 'environment', 'executionenvironment',\n",
    "    'technicalservicename', 'statuscode', 'detail', 'causes', 'operation', 'consumerid',\n",
    "    'messageid', 'version', 'ingestion_year', 'ingestion_month', 'ingestion_day'\n",
    "]"
   ]
  },
  {
   "cell_type": "markdown",
   "id": "c6bfa154",
   "metadata": {},
   "source": [
    "## 3. Limpieza del dataset\n",
    "Se organizan los campos\n"
   ]
  },
  {
   "cell_type": "code",
   "execution_count": 38,
   "id": "6ba3f152",
   "metadata": {},
   "outputs": [],
   "source": [
    "dfOpenSearchL = dfOpenSearch[columnas_interes].copy()\n",
    "\n",
    "dfOpenSearchL.rename(columns={\n",
    "    'generaltimestamp': 'Hora_de_transaccion',\n",
    "    'integrationplatform': 'Herramienta_desarrollo',\n",
    "    'executionenvironment': 'Plataforma_de_despliegue',\n",
    "    'technicalservicename': 'Nombre_de_servicio',\n",
    "    'statuscode': 'Estado_de_respuesta',\n",
    "    'detail': 'Detalle_de_error',\n",
    "    'causes': 'Causas',\n",
    "    'operation': 'Nombre_de_operacion',\n",
    "    'consumerid': 'Id_consumidor',\n",
    "    'messageid': 'Id_mensaje',\n",
    "    'version': 'Version',\n",
    "    'ingestion_year': 'Año_de_ingestion',\n",
    "    'ingestion_month': 'Mes_de_ingestion',\n",
    "    'ingestion_day': 'Dia_de_ingestion',\n",
    "    'environment': 'Ambiente'\n",
    "}, inplace=True)\n",
    "\n",
    "\n",
    "dfOpenSearchL.dropna(how='all', inplace=True)\n",
    "dfOpenSearchL = dfOpenSearchL[dfOpenSearchL['Ambiente'].str.lower().isin(['production', 'pdn', 'produccion'])]\n",
    "dfOpenSearchL.drop(columns=['Ambiente'], inplace=True)\n",
    "dfOpenSearchL.insert(0, 'ID', range(1, len(dfOpenSearchL) + 1))\n",
    "orden_columnas = [\n",
    "    'ID', 'Hora_de_transaccion', 'Herramienta_desarrollo', 'Plataforma_de_despliegue',\n",
    "    'Nombre_de_servicio', 'Estado_de_respuesta', 'Detalle_de_error', 'Causas',\n",
    "    'Nombre_de_operacion', 'Id_consumidor', 'Id_mensaje', 'Version',\n",
    "    'Año_de_ingestion', 'Mes_de_ingestion', 'Dia_de_ingestion'\n",
    "]\n",
    "dfOpenSearchL = dfOpenSearchL[orden_columnas]\n",
    "\n",
    "# Exportar a CSV\n",
    "dfOpenSearchL.to_csv('opensearch_filtrado.csv', index=False, encoding='utf-8')"
   ]
  },
  {
   "cell_type": "markdown",
   "id": "144221bc",
   "metadata": {},
   "source": [
    "## 4. Actualización campos del otro dataset"
   ]
  },
  {
   "cell_type": "code",
   "execution_count": 41,
   "id": "2687885c",
   "metadata": {},
   "outputs": [],
   "source": [
    "dfInvServiciosYApisPDN= pd.read_excel('Inventario de Servicios y Apis Producción.xlsx', sheet_name='Inventario de Servicios')\n",
    "#print(list(dfInvServiciosYApisPDN.columns))\n",
    "\n",
    "\n",
    "columnas_interes = [\n",
    "    'TIPO', 'Nombre Producto', 'Version Producto', 'NOMBRE DEL SERVICIO',\n",
    "    'Nombre Tecnico Api', 'COMPONENTE MENOR', 'EVC', 'Nombre Equipo',\n",
    "    'SERVICIO PROVEEDOR', 'CONSUMIDORES'\n",
    "]\n"
   ]
  },
  {
   "cell_type": "markdown",
   "id": "e522a317",
   "metadata": {},
   "source": [
    "## 5. Limpieza del otro dataset"
   ]
  },
  {
   "cell_type": "code",
   "execution_count": 42,
   "id": "e6e24031",
   "metadata": {},
   "outputs": [],
   "source": [
    "dfInv = dfInvServiciosYApisPDN[columnas_interes].copy()\n",
    "\n",
    "dfInv.rename(columns={\n",
    "    'TIPO': 'Tipo',\n",
    "    'Nombre Producto': 'Nombre_producto_API',\n",
    "    'Version Producto': 'Version_producto',\n",
    "    'NOMBRE DEL SERVICIO': 'Nombre_de_servicio/API',\n",
    "    'Nombre Tecnico Api': 'Nombre_Tecnico_API',\n",
    "    'COMPONENTE MENOR': 'Componente_menor',\n",
    "    'EVC': 'EVC',\n",
    "    'Nombre Equipo': 'Nombre_equipo',\n",
    "    'SERVICIO PROVEEDOR': 'Servicio_proveedor',\n",
    "    'CONSUMIDORES': 'Consumidores'\n",
    "}, inplace=True)\n",
    "\n",
    "dfInv.dropna(how='all', inplace=True)\n",
    "dfInv['QMANAGER'] = ''\n",
    "dfInv['Namespace'] = ''\n",
    "dfInv.insert(0, 'ID', range(1, len(dfInv) + 1))\n",
    "orden_columnas = [\n",
    "    'ID', 'Tipo', 'Nombre_producto_API', 'Version_producto', 'Nombre_de_servicio/API',\n",
    "    'Nombre_Tecnico_API', 'Componente_menor', 'EVC', 'Nombre_equipo',\n",
    "    'Servicio_proveedor', 'Consumidores', 'QMANAGER', 'Namespace'\n",
    "]\n",
    "dfInv = dfInv[orden_columnas]\n",
    "\n",
    "# Exportar a CSV\n",
    "dfInv.to_csv('inventario_servicios_apis.csv', index=False, encoding='utf-8')"
   ]
  },
  {
   "cell_type": "markdown",
   "id": "b517c732",
   "metadata": {},
   "source": [
    "## 6. crear base de datos e insertar datos en MYSQL"
   ]
  },
  {
   "cell_type": "code",
   "execution_count": 14,
   "id": "887d5e14",
   "metadata": {},
   "outputs": [
    {
     "name": "stdout",
     "output_type": "stream",
     "text": [
      "Looking in indexes: https://artifactory.apps.bancolombia.com/api/pypi/pypi-bancolombia/simple\n",
      "Collecting mysql-connector-python\n",
      "  Downloading https://artifactory.apps.bancolombia.com/api/pypi/pypi-bancolombia/packages/packages/15/9c/127f974ca9d5ee25373cb5433da06bb1f36e05f2a6b7436da1fe9c6346b0/mysql_connector_python-9.4.0-cp311-cp311-win_amd64.whl (16.4 MB)\n",
      "     ---------------------------------------- 0.0/16.4 MB ? eta -:--:--\n",
      "     - -------------------------------------- 0.8/16.4 MB 4.8 MB/s eta 0:00:04\n",
      "     ---- ----------------------------------- 1.8/16.4 MB 5.0 MB/s eta 0:00:03\n",
      "     ------- -------------------------------- 2.9/16.4 MB 4.8 MB/s eta 0:00:03\n",
      "     --------- ------------------------------ 3.9/16.4 MB 4.8 MB/s eta 0:00:03\n",
      "     ------------ --------------------------- 5.0/16.4 MB 4.8 MB/s eta 0:00:03\n",
      "     -------------- ------------------------- 6.0/16.4 MB 4.8 MB/s eta 0:00:03\n",
      "     ---------------- ----------------------- 6.8/16.4 MB 4.8 MB/s eta 0:00:03\n",
      "     ------------------- -------------------- 8.1/16.4 MB 4.8 MB/s eta 0:00:02\n",
      "     ---------------------- ----------------- 9.2/16.4 MB 4.8 MB/s eta 0:00:02\n",
      "     ------------------------ --------------- 10.2/16.4 MB 4.8 MB/s eta 0:00:02\n",
      "     -------------------------- ------------- 11.0/16.4 MB 4.8 MB/s eta 0:00:02\n",
      "     ----------------------------- ---------- 12.1/16.4 MB 4.8 MB/s eta 0:00:01\n",
      "     ------------------------------- -------- 13.1/16.4 MB 4.8 MB/s eta 0:00:01\n",
      "     -------------------------------- ------- 13.4/16.4 MB 4.8 MB/s eta 0:00:01\n",
      "     --------------------------------- ------ 13.9/16.4 MB 4.4 MB/s eta 0:00:01\n",
      "     ----------------------------------- ---- 14.7/16.4 MB 4.4 MB/s eta 0:00:01\n",
      "     -------------------------------------- - 15.7/16.4 MB 4.4 MB/s eta 0:00:01\n",
      "     ---------------------------------------  16.3/16.4 MB 4.4 MB/s eta 0:00:01\n",
      "     ---------------------------------------- 16.4/16.4 MB 4.1 MB/s eta 0:00:00\n",
      "Installing collected packages: mysql-connector-python\n",
      "Successfully installed mysql-connector-python-9.4.0\n"
     ]
    },
    {
     "name": "stderr",
     "output_type": "stream",
     "text": [
      "\n",
      "[notice] A new release of pip is available: 25.0.1 -> 25.1.1\n",
      "[notice] To update, run: python.exe -m pip install --upgrade pip\n"
     ]
    }
   ],
   "source": [
    "!pip install mysql-connector-python"
   ]
  },
  {
   "cell_type": "markdown",
   "id": "d8207890",
   "metadata": {},
   "source": [
    "## 7. Importar librerías y definir funciones"
   ]
  },
  {
   "cell_type": "code",
   "execution_count": null,
   "id": "193d86ff",
   "metadata": {},
   "outputs": [],
   "source": [
    "import mysql.connector\n",
    "from mysql.connector import Error\n",
    "import pandas as pd\n",
    "import re\n",
    "from datetime import datetime, time\n",
    "\n",
    "# Leer scripts SQL\n",
    "def leer_sql(path):\n",
    "    with open(path, 'r', encoding='utf-8') as f:\n",
    "        return f.read()\n",
    "\n",
    "# Función para normalizar nombres de servicio\n",
    "def normalizar_nombre(nombre):\n",
    "    if pd.isna(nombre):\n",
    "        return ''\n",
    "    nombre = str(nombre)\n",
    "    nombre = re.sub(r'^[A-Z]{2}\\d{6}_', '', nombre)\n",
    "    nombre = nombre.lower().replace(\" \", \"\").replace(\"_\", \"\")\n",
    "    return nombre\n",
    "\n",
    "# Convertir Hora_de_transaccion a tipo DATETIME válido\n",
    "def convertir_hora(hora_str):\n",
    "    try:\n",
    "        return datetime.strptime(hora_str, \"%M:%S.%f\").time()\n",
    "    except:\n",
    "        return None\n"
   ]
  },
  {
   "cell_type": "markdown",
   "id": "1436325c",
   "metadata": {},
   "source": [
    "## 8.  Leer y procesar archivos CSVs"
   ]
  },
  {
   "cell_type": "code",
   "execution_count": 50,
   "id": "1616fc55",
   "metadata": {},
   "outputs": [],
   "source": [
    "df_inv = pd.read_csv('inventario_servicios_apis.csv', encoding='utf-8')\n",
    "df_os = pd.read_csv('opensearch_filtrado.csv', encoding='utf-8')\n",
    "\n",
    "# Procesar inventario\n",
    "df_inv = df_inv[[ \n",
    "    'Tipo', 'Nombre_producto_API', 'Version_producto', 'Nombre_de_servicio/API',\n",
    "    'Nombre_Tecnico_API', 'Componente_menor', 'Nombre_equipo',\n",
    "    'Servicio_proveedor', 'Consumidores'\n",
    "]].copy()\n",
    "\n",
    "df_inv.rename(columns={'Nombre_de_servicio/API': 'Nombre_de_servicio_API'}, inplace=True)\n",
    "df_inv.dropna(how='all', inplace=True)\n",
    "df_inv['Id'] = range(1, len(df_inv) + 1)\n",
    "df_inv['nombre_clave'] = df_inv['Nombre_de_servicio_API'].apply(normalizar_nombre)\n",
    "\n",
    "# Procesar OpenSearch\n",
    "df_os.columns = [col.strip().replace('Ã±', 'ñ').replace('AÃ±o', 'Año') for col in df_os.columns]\n",
    "df_os['Id'] = range(1, len(df_os) + 1)\n",
    "df_os['Hora_de_transaccion'] = df_os['Hora_de_transaccion'].apply(convertir_hora)\n",
    "df_os['nombre_clave'] = df_os['Nombre_de_servicio'].apply(normalizar_nombre)\n"
   ]
  },
  {
   "cell_type": "markdown",
   "id": "99309928",
   "metadata": {},
   "source": [
    "## 9.  Relacionar y limpiar DataFrames"
   ]
  },
  {
   "cell_type": "code",
   "execution_count": 51,
   "id": "1041d673",
   "metadata": {},
   "outputs": [],
   "source": [
    "# Hacer merge usando la clave normalizada\n",
    "df_os = df_os.merge(\n",
    "    df_inv[['Id', 'nombre_clave']],\n",
    "    on='nombre_clave',\n",
    "    how='left',\n",
    "    suffixes=('', '_inv')\n",
    ")\n",
    "\n",
    "df_os.rename(columns={'Id_inv': 'Inventario_Id'}, inplace=True)\n",
    "\n",
    "# Limpiar columnas temporales\n",
    "df_inv.drop(columns=['nombre_clave'], inplace=True)\n",
    "df_os.drop(columns=['nombre_clave'], inplace=True)\n",
    "\n",
    "# Reordenar columnas\n",
    "df_inv = df_inv[[\n",
    "    'Id', 'Tipo', 'Nombre_producto_API', 'Version_producto',\n",
    "    'Nombre_de_servicio_API', 'Nombre_Tecnico_API', 'Componente_menor',\n",
    "    'Nombre_equipo', 'Servicio_proveedor', 'Consumidores'\n",
    "]]\n",
    "\n",
    "df_os = df_os[[\n",
    "    'Id', 'Hora_de_transaccion', 'Herramienta_desarrollo', 'Plataforma_de_despliegue',\n",
    "    'Nombre_de_servicio', 'Estado_de_respuesta', 'Detalle_de_error', 'Causas',\n",
    "    'Nombre_de_operacion', 'Id_consumidor', 'Id_mensaje', 'Version',\n",
    "    'Año_de_ingestion', 'Mes_de_ingestion', 'Dia_de_ingestion', 'Inventario_Id'\n",
    "]]\n"
   ]
  },
  {
   "cell_type": "markdown",
   "id": "d2676cc8",
   "metadata": {},
   "source": [
    "## 10.   Insertar  datos en MySQL"
   ]
  },
  {
   "cell_type": "code",
   "execution_count": 56,
   "id": "24cf4ed9",
   "metadata": {},
   "outputs": [
    {
     "name": "stdout",
     "output_type": "stream",
     "text": [
      "✅ Base de datos creada\n",
      "✅ Tablas creadas\n",
      "✅ Datos insertados correctamente\n"
     ]
    }
   ],
   "source": [
    "import mysql.connector\n",
    "from mysql.connector import Error\n",
    "import pandas as pd\n",
    "import re\n",
    "from datetime import datetime, time\n",
    "\n",
    "try:\n",
    "    conn = mysql.connector.connect(\n",
    "        host='localhost',\n",
    "        user='root',\n",
    "        password='12345'\n",
    "    )\n",
    "\n",
    "    if conn.is_connected():\n",
    "        with conn.cursor() as cursor:\n",
    "            # Crear base de datos\n",
    "            script_db = leer_sql('base_datos.sql')\n",
    "            for stmt in script_db.split(';'):\n",
    "                if stmt.strip():\n",
    "                    cursor.execute(stmt)\n",
    "            print(\"✅ Base de datos creada\")\n",
    "\n",
    "            # Seleccionar base de datos\n",
    "            conn.database = 'inventario_datos'\n",
    "\n",
    "            # Crear tablas\n",
    "            script_tablas = leer_sql('tablas.sql')\n",
    "            for stmt in script_tablas.split(';'):\n",
    "                if stmt.strip():\n",
    "                    cursor.execute(stmt)\n",
    "            print(\"✅ Tablas creadas\")\n",
    "\n",
    "            # Insertar datos en inventario_servicios_apis\n",
    "            insert_inv = \"\"\"\n",
    "                INSERT INTO inventario_servicios_apis (\n",
    "                    Id, Tipo, Nombre_producto_API, Version_producto,\n",
    "                    Nombre_de_servicio_API, Nombre_Tecnico_API, Componente_menor,\n",
    "                    Nombre_equipo, Servicio_proveedor, Consumidores\n",
    "                ) VALUES (%s,%s,%s,%s,%s,%s,%s,%s,%s,%s)\n",
    "            \"\"\"\n",
    "            for _, row in df_inv.iterrows():\n",
    "                valores = [None if pd.isna(v) else str(v) for v in row]\n",
    "                cursor.execute(insert_inv, tuple(valores))\n",
    "\n",
    "            # Insertar datos en opensearch_filtrado\n",
    "            insert_os = \"\"\"\n",
    "                INSERT INTO opensearch_filtrado (\n",
    "                    Id, Hora_de_transaccion, Herramienta_desarrollo, Plataforma_de_despliegue,\n",
    "                    Nombre_de_servicio, Estado_de_respuesta, Detalle_de_error, Causas,\n",
    "                    Nombre_de_operacion, Id_consumidor, Id_mensaje, Version,\n",
    "                    Año_de_ingestion, Mes_de_ingestion, Dia_de_ingestion, Inventario_Id\n",
    "                ) VALUES (%s,%s,%s,%s,%s,%s,%s,%s,%s,%s,%s,%s,%s,%s,%s,%s)\n",
    "            \"\"\"\n",
    "            for _, row in df_os.iterrows():\n",
    "                valores = []\n",
    "                for v in row:\n",
    "                    if pd.isna(v):\n",
    "                        valores.append(None)\n",
    "                    elif isinstance(v, time):  # mantener tipo time como está\n",
    "                        valores.append(v)\n",
    "                    else:\n",
    "                        valores.append(str(v))\n",
    "                cursor.execute(insert_os, tuple(valores))\n",
    "\n",
    "            conn.commit()\n",
    "            print(\"✅ Datos insertados correctamente\")\n",
    "\n",
    "except Error as e:\n",
    "    print(\"❌ Error en MySQL:\", e)\n",
    "\n",
    "except Exception as ex:\n",
    "    print(\"❌ Error general:\", ex)\n",
    "\n",
    "finally:\n",
    "    if conn.is_connected():\n",
    "        conn.close()\n"
   ]
  }
 ],
 "metadata": {
  "kernelspec": {
   "display_name": "Python 3",
   "language": "python",
   "name": "python3"
  },
  "language_info": {
   "codemirror_mode": {
    "name": "ipython",
    "version": 3
   },
   "file_extension": ".py",
   "mimetype": "text/x-python",
   "name": "python",
   "nbconvert_exporter": "python",
   "pygments_lexer": "ipython3",
   "version": "3.11.0"
  }
 },
 "nbformat": 4,
 "nbformat_minor": 5
}
